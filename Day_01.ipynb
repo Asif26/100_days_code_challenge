{
 "cells": [
  {
   "cell_type": "code",
   "execution_count": 2,
   "id": "af68a527",
   "metadata": {},
   "outputs": [
    {
     "name": "stdout",
     "output_type": "stream",
     "text": [
      "Day 1 - Python Print Function \n",
      "The Function declared like this:\n",
      "print('what to print')\n"
     ]
    }
   ],
   "source": [
    "print(\"Day 1 - Python Print Function \")\n",
    "print(\"The Function declared like this:\")\n",
    "print(\"print('what to print')\")"
   ]
  },
  {
   "cell_type": "code",
   "execution_count": 3,
   "id": "914267bf",
   "metadata": {},
   "outputs": [
    {
     "name": "stdout",
     "output_type": "stream",
     "text": [
      "Hello World!\n",
      "Hello World!\n",
      "Hello World!\n"
     ]
    }
   ],
   "source": [
    "print(\"Hello World!\")\n",
    "print(\"Hello World!\")\n",
    "print(\"Hello World!\")"
   ]
  },
  {
   "cell_type": "code",
   "execution_count": 5,
   "id": "386d88a4",
   "metadata": {},
   "outputs": [
    {
     "name": "stdout",
     "output_type": "stream",
     "text": [
      "Hello World!\n",
      "Hello World!\n",
      "Hello World!\n"
     ]
    }
   ],
   "source": [
    "print(\"Hello World!\\nHello World!\\nHello World!\")"
   ]
  },
  {
   "cell_type": "code",
   "execution_count": 7,
   "id": "4ce421b5",
   "metadata": {},
   "outputs": [
    {
     "name": "stdout",
     "output_type": "stream",
     "text": [
      "Hello Asif\n"
     ]
    }
   ],
   "source": [
    "print(\"Hello\" + \" \" + \"Asif\")"
   ]
  },
  {
   "cell_type": "code",
   "execution_count": 10,
   "id": "628de844",
   "metadata": {},
   "outputs": [
    {
     "name": "stdout",
     "output_type": "stream",
     "text": [
      "Hello Asif\n"
     ]
    }
   ],
   "source": [
    "print(\"Hello\" + \" \" + \"Asif\")"
   ]
  },
  {
   "cell_type": "code",
   "execution_count": 12,
   "id": "5c02a671",
   "metadata": {},
   "outputs": [
    {
     "name": "stdout",
     "output_type": "stream",
     "text": [
      "Day 1 - String manipulaton\n",
      "String concatenation is done with '+' sign.\n",
      "e.g. print(\"Hello\"+\"world\")\n",
      "New lines can be created backslash and n\n"
     ]
    }
   ],
   "source": [
    "# fix the code bellow\n",
    "\n",
    "#print(Day 1 - String manipulation\")\n",
    "#print(\"String concatenation is done with the\"+\" sign.\")\n",
    "#      print('e.g. print(\"Hello\"+\"world\")')\n",
    "#print((\"New lines can be created backslash and n\") \n",
    "\n",
    "      \n",
    "# soluntion\n",
    "print(\"Day 1 - String manipulaton\")\n",
    "print(\"String concatenation is done with '+' sign.\")\n",
    "print('e.g. print(\"Hello\"+\"world\")')\n",
    "print(\"New lines can be created backslash and n\")"
   ]
  },
  {
   "cell_type": "code",
   "execution_count": 13,
   "id": "cbb72c89",
   "metadata": {},
   "outputs": [
    {
     "name": "stdout",
     "output_type": "stream",
     "text": [
      "What is your name?Asif\n"
     ]
    },
    {
     "data": {
      "text/plain": [
       "'Asif'"
      ]
     },
     "execution_count": 13,
     "metadata": {},
     "output_type": "execute_result"
    }
   ],
   "source": [
    "#Input Function\n",
    "input(\"What is your name?\")"
   ]
  },
  {
   "cell_type": "code",
   "execution_count": 16,
   "id": "df0ad965",
   "metadata": {},
   "outputs": [
    {
     "name": "stdout",
     "output_type": "stream",
     "text": [
      "Enter your nameAsif\n",
      "Hello Asif!\n"
     ]
    }
   ],
   "source": [
    "#Input Function \n",
    "print(\"Hello\" +\" \" + input(\"Enter your name\") + \"!\")"
   ]
  },
  {
   "cell_type": "code",
   "execution_count": 17,
   "id": "e92c2c78",
   "metadata": {},
   "outputs": [
    {
     "name": "stdout",
     "output_type": "stream",
     "text": [
      "Enter your nameasif\n",
      "4\n"
     ]
    }
   ],
   "source": [
    "a = input(\"Enter your name\")\n",
    "print(len(a))"
   ]
  },
  {
   "cell_type": "code",
   "execution_count": 18,
   "id": "c9e431d6",
   "metadata": {},
   "outputs": [
    {
     "name": "stdout",
     "output_type": "stream",
     "text": [
      "enter you nameali ahmad\n",
      "9\n"
     ]
    }
   ],
   "source": [
    "print(len(input(\"enter you name\")))\n",
    "# Notes\n",
    "# if input 'Asif'\n",
    "# 1st: print(len('Asif'))\n",
    "# 2nd: print(4)"
   ]
  },
  {
   "cell_type": "code",
   "execution_count": 19,
   "id": "2e6bcd4c",
   "metadata": {},
   "outputs": [
    {
     "name": "stdout",
     "output_type": "stream",
     "text": [
      "Asif\n"
     ]
    }
   ],
   "source": [
    "# Variable \n",
    "\n",
    "name = 'Asif'\n",
    "print(name)"
   ]
  },
  {
   "cell_type": "code",
   "execution_count": 23,
   "id": "3e3193c5",
   "metadata": {},
   "outputs": [
    {
     "name": "stdout",
     "output_type": "stream",
     "text": [
      "Enter your name asif ali\n",
      "8\n"
     ]
    }
   ],
   "source": [
    "name = input(\"Enter your name \")\n",
    "lenth = len(name)\n",
    "print(lenth)\n"
   ]
  },
  {
   "cell_type": "code",
   "execution_count": 29,
   "id": "e01c814c",
   "metadata": {},
   "outputs": [
    {
     "name": "stdout",
     "output_type": "stream",
     "text": [
      "a: 5\n",
      "b: 6\n",
      "a= 6\n",
      "b= 5\n"
     ]
    }
   ],
   "source": [
    "# Excersie 1.4 Variable\n",
    "# Do not change code\n",
    "a = input(\"a: \")\n",
    "b = input(\"b: \")\n",
    "\n",
    "##################################################\n",
    "# write code below this line\n",
    "# num1 = a\n",
    "# num2 = b\n",
    "# a  = num2 \n",
    "# b  = num1\n",
    "c = a\n",
    "a = b\n",
    "b = c\n",
    "\n",
    "# write code above this line\n",
    "#################################################\n",
    "\n",
    "# Don't change code below\n",
    "print(\"a= \" + a)\n",
    "print(\"b= \" + b)\n",
    "# Don't change code above"
   ]
  },
  {
   "cell_type": "markdown",
   "id": "d76bdab8",
   "metadata": {},
   "source": [
    "### Project Day 1\n",
    "#### 1. create  a greeting  for your programe.\n",
    "#### 2. Ask the user for the city that they grew up in.\n",
    "#### 3. Ask the user the name of a pet.\n",
    "#### 4. Combine the name of their city and pet and show them their name.\n",
    "#### 5. Make sure  the input cursor shows  on new line."
   ]
  },
  {
   "cell_type": "code",
   "execution_count": 30,
   "id": "8842f7bd",
   "metadata": {},
   "outputs": [
    {
     "name": "stdout",
     "output_type": "stream",
     "text": [
      "Welcome to the Band Name Genrator.\n",
      "Enter your city_name\n",
      "Khairpur\n",
      "Enter your Pet_name\n",
      "Rani\n",
      "Your Bande Name is  KhairpurRani\n"
     ]
    }
   ],
   "source": [
    "# 1. create a greeting for your programe.\n",
    "print(\"Welcome to the Band Name Genrator.\")\n",
    "# 2. Ask the user for the city that they grew up in.\n",
    "city_name = input(\"Enter your city_name\\n\")\n",
    "# 3. Ask the user the name of a pet.\n",
    "pet_name = input(\"Enter your Pet_name\\n\")\n",
    "4. Combine the name of their city and pet and show them their name.\n",
    "print(\"Your Bande Name is \",city_name + pet_name)"
   ]
  },
  {
   "cell_type": "code",
   "execution_count": null,
   "id": "acad140a",
   "metadata": {},
   "outputs": [],
   "source": []
  }
 ],
 "metadata": {
  "kernelspec": {
   "display_name": "Python 3 (ipykernel)",
   "language": "python",
   "name": "python3"
  },
  "language_info": {
   "codemirror_mode": {
    "name": "ipython",
    "version": 3
   },
   "file_extension": ".py",
   "mimetype": "text/x-python",
   "name": "python",
   "nbconvert_exporter": "python",
   "pygments_lexer": "ipython3",
   "version": "3.9.12"
  }
 },
 "nbformat": 4,
 "nbformat_minor": 5
}
